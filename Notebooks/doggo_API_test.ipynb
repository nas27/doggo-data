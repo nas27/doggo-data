{
 "cells": [
  {
   "cell_type": "code",
   "execution_count": 1,
   "id": "5886daf7-bff1-4492-b9e3-f8948d99ca8f",
   "metadata": {},
   "outputs": [],
   "source": [
    "import pandas as pd\n",
    "import sys\n",
    "import requests\n",
    "import os"
   ]
  },
  {
   "cell_type": "code",
   "execution_count": 3,
   "id": "33abdc1f-53b8-4bd7-82dd-17d6a8a4823b",
   "metadata": {},
   "outputs": [],
   "source": [
    "#Test out API"
   ]
  },
  {
   "cell_type": "code",
   "execution_count": 17,
   "id": "6c8e1622-f995-4d9a-8e51-f53fe126ab22",
   "metadata": {},
   "outputs": [],
   "source": [
    "url = \"https://api.thedogapi.com/v1/images/search?limit=12\""
   ]
  },
  {
   "cell_type": "code",
   "execution_count": 3,
   "id": "e3e45404-f967-453e-a9e1-67aeaad28797",
   "metadata": {},
   "outputs": [],
   "source": [
    "DOG_API_KEY = os.environ[\"DOG_API_KEY\"]"
   ]
  },
  {
   "cell_type": "code",
   "execution_count": 37,
   "id": "3267b0d3-31bf-4135-93fd-215e2cbf2e71",
   "metadata": {},
   "outputs": [],
   "source": [
    "headers = {\n",
    "    \"accept\": \"application/json\",\n",
    "    \"x-api-key\": DOG_API_KEY\n",
    "}\n",
    "\n",
    "#params = {\n",
    "#    \"size\": \"small\"\n",
    "#}"
   ]
  },
  {
   "cell_type": "code",
   "execution_count": 39,
   "id": "7af15b4e-c371-4830-8c67-232d920ae4c5",
   "metadata": {},
   "outputs": [],
   "source": [
    "response = requests.get(url, headers=headers)#, params=params)\n",
    "#print(response.json())"
   ]
  },
  {
   "cell_type": "code",
   "execution_count": 22,
   "id": "59e52a02-935d-48f5-98c0-c89a7dce0b59",
   "metadata": {},
   "outputs": [
    {
     "name": "stdout",
     "output_type": "stream",
     "text": [
      "{'breeds': [{'weight': {'imperial': '80 - 100', 'metric': '36 - 45'}, 'height': {'imperial': '25.5 - 27.5', 'metric': '65 - 70'}, 'id': 144, 'name': 'Komondor', 'bred_for': 'Sheep guardian', 'breed_group': 'Working', 'life_span': '10 - 12 years', 'temperament': 'Steady, Fearless, Affectionate, Independent, Gentle, Calm', 'reference_image_id': 'Bko0fl547'}], 'id': 'Bko0fl547', 'url': 'https://cdn2.thedogapi.com/images/Bko0fl547_1280.jpg', 'width': 1030, 'height': 772}\n"
     ]
    }
   ],
   "source": [
    "print(first)"
   ]
  },
  {
   "cell_type": "code",
   "execution_count": 24,
   "id": "3494d96d-c2e9-4579-9179-97a9885e85b4",
   "metadata": {},
   "outputs": [],
   "source": [
    "extracted_dog_imgs = []\n",
    "for result in results:\n",
    "    id = result[\"id\"]\n",
    "    url = result[\"url\"]\n",
    "    extracted_dog_imgs.append([id,url])"
   ]
  },
  {
   "cell_type": "code",
   "execution_count": 25,
   "id": "5ea15f7f-2247-4446-9c15-7e3f14b0b135",
   "metadata": {},
   "outputs": [],
   "source": [
    "df_dog_imgs = pd.DataFrame(extracted_dog_imgs, columns=[\"id\",\"url\"])"
   ]
  },
  {
   "cell_type": "code",
   "execution_count": 42,
   "id": "cc0a7bb9-71f6-430d-946b-333966b767e9",
   "metadata": {},
   "outputs": [
    {
     "data": {
      "text/html": [
       "<div>\n",
       "<style scoped>\n",
       "    .dataframe tbody tr th:only-of-type {\n",
       "        vertical-align: middle;\n",
       "    }\n",
       "\n",
       "    .dataframe tbody tr th {\n",
       "        vertical-align: top;\n",
       "    }\n",
       "\n",
       "    .dataframe thead th {\n",
       "        text-align: right;\n",
       "    }\n",
       "</style>\n",
       "<table border=\"1\" class=\"dataframe\">\n",
       "  <thead>\n",
       "    <tr style=\"text-align: right;\">\n",
       "      <th></th>\n",
       "      <th>id</th>\n",
       "      <th>url</th>\n",
       "    </tr>\n",
       "  </thead>\n",
       "  <tbody>\n",
       "    <tr>\n",
       "      <th>0</th>\n",
       "      <td>Bko0fl547</td>\n",
       "      <td>https://cdn2.thedogapi.com/images/Bko0fl547_12...</td>\n",
       "    </tr>\n",
       "    <tr>\n",
       "      <th>1</th>\n",
       "      <td>5cTBLUIxD</td>\n",
       "      <td>https://cdn2.thedogapi.com/images/5cTBLUIxD.png</td>\n",
       "    </tr>\n",
       "    <tr>\n",
       "      <th>2</th>\n",
       "      <td>ARD5biBts</td>\n",
       "      <td>https://cdn2.thedogapi.com/images/ARD5biBts.jpg</td>\n",
       "    </tr>\n",
       "    <tr>\n",
       "      <th>3</th>\n",
       "      <td>uFQ94lGDH</td>\n",
       "      <td>https://cdn2.thedogapi.com/images/uFQ94lGDH.jpg</td>\n",
       "    </tr>\n",
       "    <tr>\n",
       "      <th>4</th>\n",
       "      <td>wop-zTLZW</td>\n",
       "      <td>https://cdn2.thedogapi.com/images/wop-zTLZW.jpg</td>\n",
       "    </tr>\n",
       "    <tr>\n",
       "      <th>5</th>\n",
       "      <td>yddakJGig</td>\n",
       "      <td>https://cdn2.thedogapi.com/images/yddakJGig.jpg</td>\n",
       "    </tr>\n",
       "    <tr>\n",
       "      <th>6</th>\n",
       "      <td>1tLAP4Eo4</td>\n",
       "      <td>https://cdn2.thedogapi.com/images/1tLAP4Eo4.jpg</td>\n",
       "    </tr>\n",
       "    <tr>\n",
       "      <th>7</th>\n",
       "      <td>z4xMdelMo</td>\n",
       "      <td>https://cdn2.thedogapi.com/images/z4xMdelMo.jpg</td>\n",
       "    </tr>\n",
       "    <tr>\n",
       "      <th>8</th>\n",
       "      <td>3PxLoudtK</td>\n",
       "      <td>https://cdn2.thedogapi.com/images/3PxLoudtK.jpg</td>\n",
       "    </tr>\n",
       "    <tr>\n",
       "      <th>9</th>\n",
       "      <td>uJPsDz43h</td>\n",
       "      <td>https://cdn2.thedogapi.com/images/uJPsDz43h.png</td>\n",
       "    </tr>\n",
       "    <tr>\n",
       "      <th>10</th>\n",
       "      <td>t2zfS_lrZ</td>\n",
       "      <td>https://cdn2.thedogapi.com/images/t2zfS_lrZ.jpg</td>\n",
       "    </tr>\n",
       "    <tr>\n",
       "      <th>11</th>\n",
       "      <td>AXi6ABpKV</td>\n",
       "      <td>https://cdn2.thedogapi.com/images/AXi6ABpKV.jpg</td>\n",
       "    </tr>\n",
       "  </tbody>\n",
       "</table>\n",
       "</div>"
      ],
      "text/plain": [
       "           id                                                url\n",
       "0   Bko0fl547  https://cdn2.thedogapi.com/images/Bko0fl547_12...\n",
       "1   5cTBLUIxD    https://cdn2.thedogapi.com/images/5cTBLUIxD.png\n",
       "2   ARD5biBts    https://cdn2.thedogapi.com/images/ARD5biBts.jpg\n",
       "3   uFQ94lGDH    https://cdn2.thedogapi.com/images/uFQ94lGDH.jpg\n",
       "4   wop-zTLZW    https://cdn2.thedogapi.com/images/wop-zTLZW.jpg\n",
       "5   yddakJGig    https://cdn2.thedogapi.com/images/yddakJGig.jpg\n",
       "6   1tLAP4Eo4    https://cdn2.thedogapi.com/images/1tLAP4Eo4.jpg\n",
       "7   z4xMdelMo    https://cdn2.thedogapi.com/images/z4xMdelMo.jpg\n",
       "8   3PxLoudtK    https://cdn2.thedogapi.com/images/3PxLoudtK.jpg\n",
       "9   uJPsDz43h    https://cdn2.thedogapi.com/images/uJPsDz43h.png\n",
       "10  t2zfS_lrZ    https://cdn2.thedogapi.com/images/t2zfS_lrZ.jpg\n",
       "11  AXi6ABpKV    https://cdn2.thedogapi.com/images/AXi6ABpKV.jpg"
      ]
     },
     "execution_count": 42,
     "metadata": {},
     "output_type": "execute_result"
    }
   ],
   "source": [
    "df_dog_imgs.head(12)"
   ]
  }
 ],
 "metadata": {
  "kernelspec": {
   "display_name": "the_one",
   "language": "python",
   "name": "the_one"
  },
  "language_info": {
   "codemirror_mode": {
    "name": "ipython",
    "version": 3
   },
   "file_extension": ".py",
   "mimetype": "text/x-python",
   "name": "python",
   "nbconvert_exporter": "python",
   "pygments_lexer": "ipython3",
   "version": "3.9.18"
  }
 },
 "nbformat": 4,
 "nbformat_minor": 5
}
